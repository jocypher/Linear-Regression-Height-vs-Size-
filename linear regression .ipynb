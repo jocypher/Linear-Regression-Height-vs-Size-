{
 "cells": [
  {
   "cell_type": "code",
   "execution_count": 54,
   "id": "793360ef",
   "metadata": {},
   "outputs": [],
   "source": [
    "import pandas as pd\n",
    "import matplotlib.pyplot as plt\n",
    "import seaborn as sns\n",
    "import numpy as np\n",
    "import sklearn\n",
    "%matplotlib inline"
   ]
  },
  {
   "cell_type": "code",
   "execution_count": 82,
   "id": "177eb230",
   "metadata": {},
   "outputs": [
    {
     "name": "stdout",
     "output_type": "stream",
     "text": [
      "       X           Y\n",
      "0      1    3.888889\n",
      "1      2    4.555556\n",
      "2      3    5.222222\n",
      "3      4    5.888889\n",
      "4      5    6.555556\n",
      "..   ...         ...\n",
      "295  296  200.555556\n",
      "296  297  201.222222\n",
      "297  298  201.888889\n",
      "298  299    1.888889\n",
      "299  300    1.888889\n",
      "\n",
      "[300 rows x 2 columns]\n"
     ]
    }
   ],
   "source": [
    "# downloading the dataset \n",
    "model = pd.read_csv(\"C:/Users/Georage/Downloads/Linear Regression - Sheet1.csv\")\n",
    "print(model)"
   ]
  },
  {
   "cell_type": "code",
   "execution_count": 108,
   "id": "f56b096b",
   "metadata": {},
   "outputs": [
    {
     "data": {
      "text/plain": [
       "(300, 2)"
      ]
     },
     "execution_count": 108,
     "metadata": {},
     "output_type": "execute_result"
    }
   ],
   "source": [
    "model.shape"
   ]
  },
  {
   "cell_type": "code",
   "execution_count": 83,
   "id": "ef703b70",
   "metadata": {},
   "outputs": [
    {
     "data": {
      "text/html": [
       "<div>\n",
       "<style scoped>\n",
       "    .dataframe tbody tr th:only-of-type {\n",
       "        vertical-align: middle;\n",
       "    }\n",
       "\n",
       "    .dataframe tbody tr th {\n",
       "        vertical-align: top;\n",
       "    }\n",
       "\n",
       "    .dataframe thead th {\n",
       "        text-align: right;\n",
       "    }\n",
       "</style>\n",
       "<table border=\"1\" class=\"dataframe\">\n",
       "  <thead>\n",
       "    <tr style=\"text-align: right;\">\n",
       "      <th></th>\n",
       "      <th>X</th>\n",
       "      <th>Y</th>\n",
       "    </tr>\n",
       "  </thead>\n",
       "  <tbody>\n",
       "    <tr>\n",
       "      <th>0</th>\n",
       "      <td>1</td>\n",
       "      <td>3.888889</td>\n",
       "    </tr>\n",
       "    <tr>\n",
       "      <th>1</th>\n",
       "      <td>2</td>\n",
       "      <td>4.555556</td>\n",
       "    </tr>\n",
       "    <tr>\n",
       "      <th>2</th>\n",
       "      <td>3</td>\n",
       "      <td>5.222222</td>\n",
       "    </tr>\n",
       "    <tr>\n",
       "      <th>3</th>\n",
       "      <td>4</td>\n",
       "      <td>5.888889</td>\n",
       "    </tr>\n",
       "    <tr>\n",
       "      <th>4</th>\n",
       "      <td>5</td>\n",
       "      <td>6.555556</td>\n",
       "    </tr>\n",
       "  </tbody>\n",
       "</table>\n",
       "</div>"
      ],
      "text/plain": [
       "   X         Y\n",
       "0  1  3.888889\n",
       "1  2  4.555556\n",
       "2  3  5.222222\n",
       "3  4  5.888889\n",
       "4  5  6.555556"
      ]
     },
     "execution_count": 83,
     "metadata": {},
     "output_type": "execute_result"
    }
   ],
   "source": [
    "model.head()"
   ]
  },
  {
   "cell_type": "code",
   "execution_count": 84,
   "id": "b112747c",
   "metadata": {},
   "outputs": [
    {
     "data": {
      "text/html": [
       "<div>\n",
       "<style scoped>\n",
       "    .dataframe tbody tr th:only-of-type {\n",
       "        vertical-align: middle;\n",
       "    }\n",
       "\n",
       "    .dataframe tbody tr th {\n",
       "        vertical-align: top;\n",
       "    }\n",
       "\n",
       "    .dataframe thead th {\n",
       "        text-align: right;\n",
       "    }\n",
       "</style>\n",
       "<table border=\"1\" class=\"dataframe\">\n",
       "  <thead>\n",
       "    <tr style=\"text-align: right;\">\n",
       "      <th></th>\n",
       "      <th>X</th>\n",
       "      <th>Y</th>\n",
       "    </tr>\n",
       "  </thead>\n",
       "  <tbody>\n",
       "    <tr>\n",
       "      <th>count</th>\n",
       "      <td>300.000000</td>\n",
       "      <td>300.000000</td>\n",
       "    </tr>\n",
       "    <tr>\n",
       "      <th>mean</th>\n",
       "      <td>150.500000</td>\n",
       "      <td>102.215556</td>\n",
       "    </tr>\n",
       "    <tr>\n",
       "      <th>std</th>\n",
       "      <td>86.746758</td>\n",
       "      <td>57.842711</td>\n",
       "    </tr>\n",
       "    <tr>\n",
       "      <th>min</th>\n",
       "      <td>1.000000</td>\n",
       "      <td>1.888889</td>\n",
       "    </tr>\n",
       "    <tr>\n",
       "      <th>25%</th>\n",
       "      <td>75.750000</td>\n",
       "      <td>52.388889</td>\n",
       "    </tr>\n",
       "    <tr>\n",
       "      <th>50%</th>\n",
       "      <td>150.500000</td>\n",
       "      <td>102.222222</td>\n",
       "    </tr>\n",
       "    <tr>\n",
       "      <th>75%</th>\n",
       "      <td>225.250000</td>\n",
       "      <td>152.055556</td>\n",
       "    </tr>\n",
       "    <tr>\n",
       "      <th>max</th>\n",
       "      <td>300.000000</td>\n",
       "      <td>201.888889</td>\n",
       "    </tr>\n",
       "  </tbody>\n",
       "</table>\n",
       "</div>"
      ],
      "text/plain": [
       "                X           Y\n",
       "count  300.000000  300.000000\n",
       "mean   150.500000  102.215556\n",
       "std     86.746758   57.842711\n",
       "min      1.000000    1.888889\n",
       "25%     75.750000   52.388889\n",
       "50%    150.500000  102.222222\n",
       "75%    225.250000  152.055556\n",
       "max    300.000000  201.888889"
      ]
     },
     "execution_count": 84,
     "metadata": {},
     "output_type": "execute_result"
    }
   ],
   "source": [
    "model.describe()"
   ]
  },
  {
   "cell_type": "code",
   "execution_count": 85,
   "id": "9f40ea49",
   "metadata": {},
   "outputs": [
    {
     "data": {
      "text/plain": [
       "<AxesSubplot:>"
      ]
     },
     "execution_count": 85,
     "metadata": {},
     "output_type": "execute_result"
    },
    {
     "data": {
      "image/png": "[encoded data removed]",
      "text/plain": [
       "<Figure size 432x288 with 1 Axes>"
      ]
     },
     "metadata": {
      "needs_background": "light"
     },
     "output_type": "display_data"
    }
   ],
   "source": [
    "model.plot()"
   ]
  },
  {
   "cell_type": "code",
   "execution_count": 86,
   "id": "9d24fd3e",
   "metadata": {},
   "outputs": [
    {
     "name": "stdout",
     "output_type": "stream",
     "text": [
      "<class 'pandas.core.frame.DataFrame'>\n",
      "RangeIndex: 300 entries, 0 to 299\n",
      "Data columns (total 2 columns):\n",
      " #   Column  Non-Null Count  Dtype  \n",
      "---  ------  --------------  -----  \n",
      " 0   X       300 non-null    int64  \n",
      " 1   Y       300 non-null    float64\n",
      "dtypes: float64(1), int64(1)\n",
      "memory usage: 4.8 KB\n"
     ]
    }
   ],
   "source": [
    "model.info()"
   ]
  },
  {
   "cell_type": "code",
   "execution_count": 87,
   "id": "67f74e32",
   "metadata": {},
   "outputs": [
    {
     "data": {
      "text/plain": [
       "X    0\n",
       "Y    0\n",
       "dtype: int64"
      ]
     },
     "execution_count": 87,
     "metadata": {},
     "output_type": "execute_result"
    }
   ],
   "source": [
    " model.isna().sum()"
   ]
  },
  {
   "cell_type": "code",
   "execution_count": 88,
   "id": "26e74e79",
   "metadata": {},
   "outputs": [],
   "source": [
    "height = model['X']\n",
    "size = model['Y']"
   ]
  },
  {
   "cell_type": "code",
   "execution_count": 89,
   "id": "53503b56",
   "metadata": {},
   "outputs": [
    {
     "data": {
      "image/png": "[encoded data removed]",
      "text/plain": [
       "<Figure size 432x288 with 1 Axes>"
      ]
     },
     "metadata": {
      "needs_background": "light"
     },
     "output_type": "display_data"
    }
   ],
   "source": [
    "plt.scatter(height, size)\n",
    "plt.show()"
   ]
  },
  {
   "cell_type": "code",
   "execution_count": 90,
   "id": "c6b0707b",
   "metadata": {},
   "outputs": [],
   "source": [
    "x = np.array(height).reshape(-1 , 1)\n",
    "y = np.array(size).reshape(-1 , 1)"
   ]
  },
  {
   "cell_type": "code",
   "execution_count": 91,
   "id": "2218e463",
   "metadata": {},
   "outputs": [],
   "source": [
    "from sklearn.model_selection import train_test_split\n",
    "x_train, x_test , y_train , y_test = train_test_split(x,y , test_size = 1/3 , random_state = 0)"
   ]
  },
  {
   "cell_type": "code",
   "execution_count": 92,
   "id": "73536689",
   "metadata": {},
   "outputs": [
    {
     "data": {
      "text/plain": [
       "LinearRegression()"
      ]
     },
     "execution_count": 92,
     "metadata": {},
     "output_type": "execute_result"
    }
   ],
   "source": [
    "from sklearn.linear_model import LinearRegression\n",
    "lr = LinearRegression()\n",
    "lr.fit(x_train , y_train, sample_weight = None)"
   ]
  },
  {
   "cell_type": "code",
   "execution_count": 97,
   "id": "0b3e2b16",
   "metadata": {},
   "outputs": [
    {
     "data": {
      "text/plain": [
       "array([[140.33207404],\n",
       "       [127.39882208],\n",
       "       [ 13.58620491],\n",
       "       [148.7386878 ],\n",
       "       [160.37861456],\n",
       "       [ 93.77236701],\n",
       "       [154.55865118],\n",
       "       [139.03874884],\n",
       "       [ 39.45270881],\n",
       "       [ 75.66581428],\n",
       "       [193.35840704],\n",
       "       [ 15.5261927 ],\n",
       "       [124.81217169],\n",
       "       [166.19857794],\n",
       "       [ 20.05283089],\n",
       "       [ 53.67928596],\n",
       "       [180.42515509],\n",
       "       [ 64.02588752],\n",
       "       [153.91198858],\n",
       "       [111.87891974],\n",
       "       [128.69214728],\n",
       "       [ 72.43250129],\n",
       "       [ 86.01241584],\n",
       "       [ 89.24572883],\n",
       "       [149.3853504 ],\n",
       "       [ 80.83911506],\n",
       "       [131.27879767],\n",
       "       [190.77175665],\n",
       "       [157.14530157],\n",
       "       [196.59172002],\n",
       "       [ 65.31921272],\n",
       "       [ 48.50598518],\n",
       "       [ 10.99955452],\n",
       "       [ 84.71909064],\n",
       "       [147.44536261],\n",
       "       [102.82564338],\n",
       "       [119.63887091],\n",
       "       [123.5188465 ],\n",
       "       [199.17837042],\n",
       "       [  9.05956673],\n",
       "       [150.032013  ],\n",
       "       [ 63.37922492],\n",
       "       [ 58.20592414],\n",
       "       [ 27.81278206],\n",
       "       [ 41.39269661],\n",
       "       [ 95.7123548 ],\n",
       "       [158.43862677],\n",
       "       [ 47.21265998],\n",
       "       [ 10.35289192],\n",
       "       [ 34.92607063],\n",
       "       [ 53.03262336],\n",
       "       [143.56538702],\n",
       "       [117.69888312],\n",
       "       [ 74.37248908],\n",
       "       [ 43.979347  ],\n",
       "       [169.43189093],\n",
       "       [114.46557013],\n",
       "       [ 22.63948128],\n",
       "       [189.47843145],\n",
       "       [104.76563117],\n",
       "       [ 92.47904181],\n",
       "       [ 99.59233039],\n",
       "       [ 46.56599739],\n",
       "       [195.29839483],\n",
       "       [190.12509405],\n",
       "       [150.6786756 ],\n",
       "       [168.78522833],\n",
       "       [ 77.60580207],\n",
       "       [ 18.75950569],\n",
       "       [ 35.57273323],\n",
       "       [106.70561896],\n",
       "       [153.26532599],\n",
       "       [182.36514288],\n",
       "       [ 23.28614387],\n",
       "       [ 98.94566779],\n",
       "       [173.31186651],\n",
       "       [ 29.75276985],\n",
       "       [ 68.5525257 ],\n",
       "       [129.33880988],\n",
       "       [ 93.12570441],\n",
       "       [ 82.13244025],\n",
       "       [109.29226935],\n",
       "       [176.5451795 ],\n",
       "       [144.21204962],\n",
       "       [159.73195196],\n",
       "       [ 54.97261115],\n",
       "       [142.91872443],\n",
       "       [151.32533819],\n",
       "       [170.72521612],\n",
       "       [159.08528937],\n",
       "       [188.18510626],\n",
       "       [ 34.27940803],\n",
       "       [181.71848028],\n",
       "       [128.04548468],\n",
       "       [104.11896857],\n",
       "       [107.99894416],\n",
       "       [ 71.13917609],\n",
       "       [ 40.74603401],\n",
       "       [122.8721839 ],\n",
       "       [ 17.4661805 ]])"
      ]
     },
     "execution_count": 97,
     "metadata": {},
     "output_type": "execute_result"
    }
   ],
   "source": [
    "y_pred = lr.predict(x_test)\n",
    "y_pred"
   ]
  },
  {
   "cell_type": "code",
   "execution_count": 106,
   "id": "dbeeaf26",
   "metadata": {},
   "outputs": [
    {
     "data": {
      "image/png": "[encoded data removed]",
      "text/plain": [
       "<Figure size 432x288 with 1 Axes>"
      ]
     },
     "metadata": {
      "needs_background": "light"
     },
     "output_type": "display_data"
    }
   ],
   "source": [
    "plt.scatter(x_train , y_train , color = 'red')\n",
    "plt.plot(x_train , lr.predict(x_train) , color = 'black')\n",
    "plt.title(' Height ~ Size (train_data)')\n",
    "plt.xlabel('Height')\n",
    "plt.ylabel('size')\n",
    "plt.show()"
   ]
  },
  {
   "cell_type": "code",
   "execution_count": 107,
   "id": "b3b9f34d",
   "metadata": {},
   "outputs": [
    {
     "data": {
      "image/png": "[encoded data removed]",
      "text/plain": [
       "<Figure size 432x288 with 1 Axes>"
      ]
     },
     "metadata": {
      "needs_background": "light"
     },
     "output_type": "display_data"
    }
   ],
   "source": [
    "plt.scatter(x_test , y_test , color = 'red')\n",
    "plt.plot(x_train , lr.predict(x_train), color = 'black')\n",
    "plt.title('Height ~ Size (Test_data)')\n",
    "plt.xlabel('Height')\n",
    "plt.ylabel('Size')\n",
    "plt.show()"
   ]
  },
  {
   "cell_type": "code",
   "execution_count": 122,
   "id": "97a3104d",
   "metadata": {},
   "outputs": [
    {
     "name": "stdout",
     "output_type": "stream",
     "text": [
      "MAE: 3.6674815062112263\n",
      "MSE: 393.3248747427226\n",
      "RMAE: 1.9150669717300297\n"
     ]
    }
   ],
   "source": [
    "from sklearn import metrics\n",
    "print('MAE:', metrics.mean_absolute_error(y_test, y_pred))\n",
    "print('MSE:', metrics.mean_squared_error(y_test, y_pred))\n",
    "print('RMAE:', np.sqrt(metrics.mean_absolute_error(y_test, y_pred)))"
   ]
  },
  {
   "cell_type": "code",
   "execution_count": null,
   "id": "51169d2e",
   "metadata": {},
   "outputs": [],
   "source": []
  }
 ],
 "metadata": {
  "kernelspec": {
   "display_name": "Python 3 (ipykernel)",
   "language": "python",
   "name": "python3"
  },
  "language_info": {
   "codemirror_mode": {
    "name": "ipython",
    "version": 3
   },
   "file_extension": ".py",
   "mimetype": "text/x-python",
   "name": "python",
   "nbconvert_exporter": "python",
   "pygments_lexer": "ipython3",
   "version": "3.9.12"
  }
 },
 "nbformat": 4,
 "nbformat_minor": 5
}
